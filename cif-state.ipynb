{
 "cells": [
  {
   "cell_type": "code",
   "execution_count": null,
   "metadata": {},
   "outputs": [],
   "source": [
    "from bs4 import BeautifulSoup\n",
    "import requests\n",
    "import pandas as pd"
   ]
  },
  {
   "cell_type": "code",
   "execution_count": null,
   "metadata": {},
   "outputs": [],
   "source": [
    "url = \"https://ca.milesplit.com/meets/643068-cif-state-xc-championships-2024/results/1108705/formatted/\"\n",
    "response = requests.get(url)\n",
    "print(response.status_code)"
   ]
  },
  {
   "cell_type": "code",
   "execution_count": null,
   "metadata": {},
   "outputs": [],
   "source": [
    "from selenium import webdriver\n",
    "from selenium.webdriver.chrome.options import Options\n",
    "import time\n",
    "# Use selenium to capture the html of the results tables\n",
    "# Because the tables seem to be loading dynamically only after the JavaScript executes\n",
    "options = Options()\n",
    "options.add_argument(\"--headless\")\n",
    "options.add_argument(\"--incognito\")\n",
    "driver = webdriver.Chrome(options=options)\n",
    "driver.get(url)\n",
    "time.sleep(5)\n",
    "html = driver.page_source\n",
    "soup = BeautifulSoup(html, 'html.parser')"
   ]
  },
  {
   "cell_type": "code",
   "execution_count": null,
   "metadata": {},
   "outputs": [],
   "source": [
    "table = soup.find(\"table\")\n",
    "df = pd.read_html(str(table))[0]\n",
    "print(df.head())\n",
    "print(df.tail())\n",
    "df.shape\n"
   ]
  },
  {
   "cell_type": "code",
   "execution_count": null,
   "metadata": {},
   "outputs": [],
   "source": [
    "tables = soup.find_all(\"table\")\n",
    "print(len(tables))\n",
    "dfs = []\n",
    "for t, i in zip(tables, range(len(tables))):\n",
    "    df = pd.read_html(str(t))[0]\n",
    "    print(\"starting the \", i, \" table\")\n",
    "    print(df.head())\n",
    "    print(df.tail())\n",
    "    print(\"shape: \", df.shape)\n",
    "    dfs.append(df)\n"
   ]
  },
  {
   "cell_type": "code",
   "execution_count": null,
   "metadata": {},
   "outputs": [],
   "source": [
    "# results are presented as alternating individual and team results\n",
    "# split the dataframes into two lists of individual and team\n",
    "individual_results = []\n",
    "team_results = []\n",
    "for n,i in zip(dfs, range(len(dfs))):\n",
    "    if i%2 == 0:\n",
    "        individual_results.append(n)\n",
    "    else:\n",
    "        team_results.append(n)\n",
    "\n",
    "print(len(individual_results))\n",
    "print(len(team_results))\n"
   ]
  },
  {
   "cell_type": "code",
   "execution_count": null,
   "metadata": {},
   "outputs": [],
   "source": [
    "df = individual_results[0]\n",
    "df.head()"
   ]
  },
  {
   "cell_type": "code",
   "execution_count": null,
   "metadata": {},
   "outputs": [],
   "source": [
    "for table in individual_results:\n",
    "    table.drop(\"Video\", axis=1, inplace=True)\n",
    "\n",
    "for table in individual_results:\n",
    "    print(table.shape)\n",
    "    print(table.head())"
   ]
  },
  {
   "cell_type": "code",
   "execution_count": null,
   "metadata": {},
   "outputs": [],
   "source": [
    "for table in individual_results:\n",
    "    table.rename(columns={table.columns[2]: \"Grade\"},inplace=True)\n",
    "for table in individual_results:\n",
    "    print(table.shape)\n",
    "    print(table.head())"
   ]
  },
  {
   "cell_type": "code",
   "execution_count": null,
   "metadata": {},
   "outputs": [],
   "source": [
    "# replace any missing grade values with the most common grade in that race\n",
    "# and convert all grade columns to data type int\n",
    "\n",
    "for table,i in zip(individual_results,range(10)):\n",
    "    print(\"Starting table \", i)\n",
    "    most_common_grade = table[\"Grade\"].mode().iloc[0]\n",
    "    print(\"most common: \", most_common_grade)\n",
    "    na_values = table[\"Grade\"].isna()\n",
    "    for n,j in zip(na_values,range(len(na_values))):\n",
    "        if n:\n",
    "            table.loc[[j],\"Grade\"] = most_common_grade\n",
    "    table[\"Grade\"] = table[\"Grade\"].astype(int)"
   ]
  },
  {
   "cell_type": "code",
   "execution_count": null,
   "metadata": {},
   "outputs": [],
   "source": [
    "# check for missing values in other columns\n",
    "for table in individual_results:\n",
    "    print(table.isna().sum())"
   ]
  },
  {
   "cell_type": "code",
   "execution_count": null,
   "metadata": {},
   "outputs": [],
   "source": [
    "# missing values in the Points column mean the athlete was competing individually\n",
    "# can replace with 0 for now\n",
    "for table in individual_results:\n",
    "    table['Points'].fillna(0,inplace=True)\n",
    "    table['Points'] = table['Points'].astype(int)"
   ]
  },
  {
   "cell_type": "code",
   "execution_count": null,
   "metadata": {},
   "outputs": [],
   "source": [
    "# check for no duplicate athletes\n",
    "for table,i in zip(individual_results,range(len(individual_results))):\n",
    "    print(\"Looking for duplicates in table \", i)\n",
    "    print(table[table[\"Athlete\"].duplicated(keep=False)])"
   ]
  },
  {
   "cell_type": "code",
   "execution_count": null,
   "metadata": {},
   "outputs": [],
   "source": [
    "# Right now the team column contains both the name of the school and the CIF section the school is from\n",
    "# Split this into two columns to standardize with team results tables\n",
    "for table in individual_results:\n",
    "    table[[\"Team\", \"CIF_Section\"]] = table[\"Team\"].str.extract(r'^(.*) \\((\\w{2})\\)$')"
   ]
  },
  {
   "cell_type": "code",
   "execution_count": null,
   "metadata": {},
   "outputs": [],
   "source": [
    "individual_results[0].head()"
   ]
  },
  {
   "cell_type": "code",
   "execution_count": null,
   "metadata": {},
   "outputs": [],
   "source": [
    "df = team_results[0]\n",
    "df.head()"
   ]
  },
  {
   "cell_type": "code",
   "execution_count": null,
   "metadata": {},
   "outputs": [],
   "source": [
    "for table in team_results:\n",
    "    print(table.isna().sum())"
   ]
  },
  {
   "cell_type": "code",
   "execution_count": null,
   "metadata": {},
   "outputs": [],
   "source": [
    "# check for no duplicate teams\n",
    "for table,i in zip(team_results,range(len(team_results))):\n",
    "    print(\"Looking for duplicates in table \", i)\n",
    "    print(table[table[\"Team\"].duplicated(keep=False)])"
   ]
  },
  {
   "cell_type": "code",
   "execution_count": null,
   "metadata": {},
   "outputs": [],
   "source": [
    "for table in team_results:\n",
    "    print(table.dtypes)"
   ]
  },
  {
   "cell_type": "code",
   "execution_count": null,
   "metadata": {},
   "outputs": [],
   "source": [
    "# Right now the team contains both the name of the school and the CIF section the school is from\n",
    "# Split this into two columns\n",
    "for table in team_results:\n",
    "    table[[\"Team\", \"CIF_Section\"]] = table[\"Team\"].str.extract(r'^(.*) \\((\\w{2})\\)$')"
   ]
  },
  {
   "cell_type": "code",
   "execution_count": null,
   "metadata": {},
   "outputs": [],
   "source": [
    "for table in team_results:\n",
    "    print(table.head())"
   ]
  },
  {
   "cell_type": "code",
   "execution_count": null,
   "metadata": {},
   "outputs": [],
   "source": [
    "def format_mm_ss(time): # some 1-5 splits were provided in m:s format eg 0:7, which would be better as 0:07\n",
    "    minutes, seconds = str(time).split(\":\")\n",
    "    return f\"{int(minutes):01}:{int(seconds):02}\"\n",
    "\n",
    "# Separate the Times column in 1-5 Split and Team time avg\n",
    "for team in team_results:\n",
    "    team[['1-5_Split', 'Team_Time_Avg']] = team['Times'].str.extract(r'(\\d{1,2}:\\d{1,2})\\s+1-5 Split\\s*\\|\\s*(\\d{1,2}:\\d{2}(?:\\.\\d{1,2})?) Avg')\n",
    "    team['1-5_Split'] = team['1-5_Split'].apply(format_mm_ss)"
   ]
  },
  {
   "cell_type": "code",
   "execution_count": null,
   "metadata": {},
   "outputs": [],
   "source": [
    "for team in team_results:\n",
    "    print(team.head())"
   ]
  },
  {
   "cell_type": "code",
   "execution_count": null,
   "metadata": {},
   "outputs": [],
   "source": [
    "for team in team_results:\n",
    "    team.drop('Times', axis=1, inplace=True)"
   ]
  },
  {
   "cell_type": "code",
   "execution_count": null,
   "metadata": {},
   "outputs": [],
   "source": [
    "df.head()"
   ]
  },
  {
   "cell_type": "code",
   "execution_count": null,
   "metadata": {},
   "outputs": [],
   "source": [
    "divisions = [\"B1\",\"B2\",\"B3\",\"B4\",\"B5\",\"G1\",\"G2\",\"G3\",\"G4\",\"G5\"] #B1= Boys Division 1, G1= Girls Division 1\n",
    "\n",
    "# designate which race the results were from by adding a \"Division\" column\n",
    "for individual_df,team_df,division in zip(individual_results,team_results,divisions):\n",
    "    individual_df['Division'] = division\n",
    "    team_df['Division'] = division\n",
    "    print(individual_df.head())\n",
    "    print(team_df.head())\n",
    "    "
   ]
  },
  {
   "cell_type": "code",
   "execution_count": null,
   "metadata": {},
   "outputs": [],
   "source": [
    "# combine all individual results into one df\n",
    "combined_individual_results = pd.concat(individual_results)\n",
    "print(combined_individual_results.shape)\n",
    "print(combined_individual_results.head())\n",
    "print(combined_individual_results.tail())"
   ]
  },
  {
   "cell_type": "code",
   "execution_count": null,
   "metadata": {},
   "outputs": [],
   "source": [
    "# combine all team results into one df\n",
    "combined_team_results = pd.concat(team_results)\n",
    "print(combined_team_results.shape)\n",
    "print(combined_team_results.head())\n",
    "print(combined_team_results.tail())"
   ]
  },
  {
   "cell_type": "code",
   "execution_count": null,
   "metadata": {},
   "outputs": [],
   "source": [
    "combined_individual_results.to_csv(\"cif-individual-results.csv\")\n",
    "combined_team_results.to_csv(\"cif-team-results.csv\")"
   ]
  }
 ],
 "metadata": {
  "kernelspec": {
   "display_name": "Python 3",
   "language": "python",
   "name": "python3"
  },
  "language_info": {
   "codemirror_mode": {
    "name": "ipython",
    "version": 3
   },
   "file_extension": ".py",
   "mimetype": "text/x-python",
   "name": "python",
   "nbconvert_exporter": "python",
   "pygments_lexer": "ipython3",
   "version": "3.10.11"
  }
 },
 "nbformat": 4,
 "nbformat_minor": 2
}
